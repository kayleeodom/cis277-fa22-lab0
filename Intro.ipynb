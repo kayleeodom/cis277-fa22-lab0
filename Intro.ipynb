{
 "cells": [
  {
   "cell_type": "markdown",
   "metadata": {},
   "source": [
    "# Juypter Notebook Intro\n",
    "\n",
    "This is a notebook."
   ]
  },
  {
   "cell_type": "code",
   "execution_count": 10,
   "metadata": {},
   "outputs": [],
   "source": [
    "3 + 4\n",
    "result = 7"
   ]
  },
  {
   "cell_type": "code",
   "execution_count": 11,
   "metadata": {},
   "outputs": [
    {
     "name": "stdout",
     "output_type": "stream",
     "text": [
      "0\n",
      "1\n",
      "2\n",
      "3\n",
      "4\n",
      "5\n",
      "6\n",
      "7\n",
      "8\n",
      "9\n"
     ]
    }
   ],
   "source": [
    "for i in range(10):\n",
    "    print(i)"
   ]
  },
  {
   "cell_type": "markdown",
   "metadata": {},
   "source": [
    "## While Loop (less Pythonic)"
   ]
  },
  {
   "cell_type": "code",
   "execution_count": 18,
   "metadata": {},
   "outputs": [
    {
     "data": {
      "text/plain": [
       "True"
      ]
     },
     "execution_count": 18,
     "metadata": {},
     "output_type": "execute_result"
    }
   ],
   "source": [
    "s = \"RacecAr \"\n",
    "\n",
    "def is_palindrome1(string):\n",
    "    clean_string = string.lower().replace(' ', '')\n",
    "    first, last = 0, len(clean_string)-1\n",
    "    while( first < last):\n",
    "        if clean_string[first] == clean_string[last]:\n",
    "            first +=1\n",
    "            last -=1\n",
    "        else:\n",
    "            return False\n",
    "    \n",
    "    return True\n",
    "\n",
    "is_palindrome1(s) "
   ]
  },
  {
   "cell_type": "markdown",
   "metadata": {},
   "source": [
    "## String Slicing (More Pythonic)"
   ]
  },
  {
   "cell_type": "code",
   "execution_count": 19,
   "metadata": {},
   "outputs": [
    {
     "data": {
      "text/plain": [
       "True"
      ]
     },
     "execution_count": 19,
     "metadata": {},
     "output_type": "execute_result"
    }
   ],
   "source": [
    "def is_palindrome2(string):\n",
    "    clean_string = string.lower().replace(' ', '')\n",
    "    reversed_string = clean_string[::-1]\n",
    "    return clean_string == reversed_string\n",
    "\n",
    "s = \" Rac eC ar \"\n",
    "is_palindrome2(s)"
   ]
  },
  {
   "cell_type": "markdown",
   "metadata": {},
   "source": [
    "## Dictionaries"
   ]
  },
  {
   "cell_type": "markdown",
   "metadata": {},
   "source": [
    "A dictionary is a collection of key-value pairs. \n",
    "\n",
    "https://www.programiz.com/python-programming/dictionary \n",
    "\n",
    "### Creating"
   ]
  },
  {
   "cell_type": "code",
   "execution_count": 2,
   "metadata": {},
   "outputs": [],
   "source": [
    "club_stereotypes = {\n",
    "    \"xbx\": \"bible lovers\",\n",
    "    \"ep\": \"terrible\",\n",
    "    \"pka\": \"rednecks\",\n",
    "    \"ox\": \"athletic\",\n",
    "    \"xcd\": \"granola\",\n",
    "    \"gto\": \"dead\"\n",
    "}"
   ]
  },
  {
   "cell_type": "markdown",
   "metadata": {},
   "source": [
    "### Accessing"
   ]
  },
  {
   "cell_type": "code",
   "execution_count": 7,
   "metadata": {},
   "outputs": [
    {
     "name": "stdout",
     "output_type": "stream",
     "text": [
      "bible lovers\n",
      "None\n"
     ]
    }
   ],
   "source": [
    "xbx = club_stereotypes[\"xbx\"]\n",
    "print(xbx)\n",
    "\n",
    "pm = club_stereotypes.get(\"pm\")\n",
    "print(pm)"
   ]
  },
  {
   "cell_type": "markdown",
   "metadata": {},
   "source": [
    "### Adding / Updating"
   ]
  },
  {
   "cell_type": "code",
   "execution_count": 9,
   "metadata": {},
   "outputs": [
    {
     "name": "stdout",
     "output_type": "stream",
     "text": [
      "{'xbx': 'bible lovers', 'ep': 'terrible', 'pka': 'really country', 'ox': 'athletic', 'xcd': 'granola', 'gto': 'dead', 'pm': 'quirky'}\n"
     ]
    }
   ],
   "source": [
    "#add\n",
    "club_stereotypes['pm'] = \"quirky\"\n",
    "\n",
    "#update\n",
    "club_stereotypes['pka'] = \"really country\"\n",
    "\n",
    "print(club_stereotypes)"
   ]
  },
  {
   "cell_type": "markdown",
   "metadata": {},
   "source": [
    "### Removing"
   ]
  },
  {
   "cell_type": "code",
   "execution_count": 15,
   "metadata": {},
   "outputs": [],
   "source": [
    "#removed_club = club_stereotypes.pop(\"pm\")\n",
    "\n",
    "#print(club_stereotypes)\n",
    "\n"
   ]
  },
  {
   "cell_type": "markdown",
   "metadata": {},
   "source": [
    "### Methods"
   ]
  },
  {
   "cell_type": "code",
   "execution_count": 21,
   "metadata": {},
   "outputs": [],
   "source": [
    "# clear()\n",
    "\n",
    "# items()\n",
    "print(club_stereotypes.items())\n",
    "\n",
    "# keys()\n",
    "print(club_stereotypes.keys())\n",
    "\n",
    "# values()\n",
    "print(club_stereotypes.values())"
   ]
  },
  {
   "cell_type": "markdown",
   "metadata": {},
   "source": [
    "### Example"
   ]
  },
  {
   "cell_type": "code",
   "execution_count": 16,
   "metadata": {},
   "outputs": [
    {
     "name": "stdout",
     "output_type": "stream",
     "text": [
      "Pirates of the Caribbean: At World's End - 7.1\n",
      "The Dark Knight Rises - 8.5\n",
      "Star Wars: Episode VII - The Force Awakens  - 7.8\n",
      "Star Wars: Episode VIII - The Last Jedi  - 6.9\n"
     ]
    }
   ],
   "source": [
    "reviews = { \n",
    "    \"Pirates of the Caribbean: At World's End\": 7.1,\n",
    "    \"The Dark Knight Rises\": 8.5,\n",
    "    \"Star Wars: Episode VII - The Force Awakens \": 7.8,\n",
    "    \"Star Wars: Episode VIII - The Last Jedi \": 6.9,\n",
    "    }\n",
    "\n",
    "for movie, rating in reviews.items():\n",
    "    print(f\"{movie} - {rating}\")"
   ]
  },
  {
   "cell_type": "markdown",
   "metadata": {},
   "source": []
  },
  {
   "cell_type": "code",
   "execution_count": 30,
   "metadata": {},
   "outputs": [
    {
     "ename": "UnicodeDecodeError",
     "evalue": "'charmap' codec can't decode byte 0x81 in position 4427: character maps to <undefined>",
     "output_type": "error",
     "traceback": [
      "\u001b[1;31m---------------------------------------------------------------------------\u001b[0m",
      "\u001b[1;31mUnicodeDecodeError\u001b[0m                        Traceback (most recent call last)",
      "\u001b[1;32mc:\\Users\\kodom\\OneDrive\\Documents\\GitHub\\cis277-00-intro\\Intro.ipynb Cell 22'\u001b[0m in \u001b[0;36m<cell line: 5>\u001b[1;34m()\u001b[0m\n\u001b[0;32m      <a href='vscode-notebook-cell:/c%3A/Users/kodom/OneDrive/Documents/GitHub/cis277-00-intro/Intro.ipynb#X30sZmlsZQ%3D%3D?line=4'>5</a>\u001b[0m \u001b[39mwith\u001b[39;00m \u001b[39mopen\u001b[39m(\u001b[39m'\u001b[39m\u001b[39mmovie.csv\u001b[39m\u001b[39m'\u001b[39m) \u001b[39mas\u001b[39;00m csvfile:\n\u001b[0;32m      <a href='vscode-notebook-cell:/c%3A/Users/kodom/OneDrive/Documents/GitHub/cis277-00-intro/Intro.ipynb#X30sZmlsZQ%3D%3D?line=5'>6</a>\u001b[0m     reader \u001b[39m=\u001b[39m csv\u001b[39m.\u001b[39mDictReader(csvfile)\n\u001b[1;32m----> <a href='vscode-notebook-cell:/c%3A/Users/kodom/OneDrive/Documents/GitHub/cis277-00-intro/Intro.ipynb#X30sZmlsZQ%3D%3D?line=6'>7</a>\u001b[0m     \u001b[39mfor\u001b[39;00m row \u001b[39min\u001b[39;00m reader:\n\u001b[0;32m      <a href='vscode-notebook-cell:/c%3A/Users/kodom/OneDrive/Documents/GitHub/cis277-00-intro/Intro.ipynb#X30sZmlsZQ%3D%3D?line=7'>8</a>\u001b[0m         \u001b[39m#print(row['movie_title'], row['imdb_score'])\u001b[39;00m\n\u001b[0;32m      <a href='vscode-notebook-cell:/c%3A/Users/kodom/OneDrive/Documents/GitHub/cis277-00-intro/Intro.ipynb#X30sZmlsZQ%3D%3D?line=8'>9</a>\u001b[0m         ratings[row[\u001b[39m'\u001b[39m\u001b[39mmovie_title\u001b[39m\u001b[39m'\u001b[39m]] \u001b[39m=\u001b[39m \u001b[39mfloat\u001b[39m(row[\u001b[39m'\u001b[39m\u001b[39mimdb_score\u001b[39m\u001b[39m'\u001b[39m])\n\u001b[0;32m     <a href='vscode-notebook-cell:/c%3A/Users/kodom/OneDrive/Documents/GitHub/cis277-00-intro/Intro.ipynb#X30sZmlsZQ%3D%3D?line=10'>11</a>\u001b[0m ratings\n",
      "File \u001b[1;32mc:\\Users\\kodom\\anaconda3\\lib\\csv.py:111\u001b[0m, in \u001b[0;36mDictReader.__next__\u001b[1;34m(self)\u001b[0m\n\u001b[0;32m    <a href='file:///c%3A/Users/kodom/anaconda3/lib/csv.py?line=107'>108</a>\u001b[0m \u001b[39mif\u001b[39;00m \u001b[39mself\u001b[39m\u001b[39m.\u001b[39mline_num \u001b[39m==\u001b[39m \u001b[39m0\u001b[39m:\n\u001b[0;32m    <a href='file:///c%3A/Users/kodom/anaconda3/lib/csv.py?line=108'>109</a>\u001b[0m     \u001b[39m# Used only for its side effect.\u001b[39;00m\n\u001b[0;32m    <a href='file:///c%3A/Users/kodom/anaconda3/lib/csv.py?line=109'>110</a>\u001b[0m     \u001b[39mself\u001b[39m\u001b[39m.\u001b[39mfieldnames\n\u001b[1;32m--> <a href='file:///c%3A/Users/kodom/anaconda3/lib/csv.py?line=110'>111</a>\u001b[0m row \u001b[39m=\u001b[39m \u001b[39mnext\u001b[39;49m(\u001b[39mself\u001b[39;49m\u001b[39m.\u001b[39;49mreader)\n\u001b[0;32m    <a href='file:///c%3A/Users/kodom/anaconda3/lib/csv.py?line=111'>112</a>\u001b[0m \u001b[39mself\u001b[39m\u001b[39m.\u001b[39mline_num \u001b[39m=\u001b[39m \u001b[39mself\u001b[39m\u001b[39m.\u001b[39mreader\u001b[39m.\u001b[39mline_num\n\u001b[0;32m    <a href='file:///c%3A/Users/kodom/anaconda3/lib/csv.py?line=113'>114</a>\u001b[0m \u001b[39m# unlike the basic reader, we prefer not to return blanks,\u001b[39;00m\n\u001b[0;32m    <a href='file:///c%3A/Users/kodom/anaconda3/lib/csv.py?line=114'>115</a>\u001b[0m \u001b[39m# because we will typically wind up with a dict full of None\u001b[39;00m\n\u001b[0;32m    <a href='file:///c%3A/Users/kodom/anaconda3/lib/csv.py?line=115'>116</a>\u001b[0m \u001b[39m# values\u001b[39;00m\n",
      "File \u001b[1;32mc:\\Users\\kodom\\anaconda3\\lib\\encodings\\cp1252.py:23\u001b[0m, in \u001b[0;36mIncrementalDecoder.decode\u001b[1;34m(self, input, final)\u001b[0m\n\u001b[0;32m     <a href='file:///c%3A/Users/kodom/anaconda3/lib/encodings/cp1252.py?line=21'>22</a>\u001b[0m \u001b[39mdef\u001b[39;00m \u001b[39mdecode\u001b[39m(\u001b[39mself\u001b[39m, \u001b[39minput\u001b[39m, final\u001b[39m=\u001b[39m\u001b[39mFalse\u001b[39;00m):\n\u001b[1;32m---> <a href='file:///c%3A/Users/kodom/anaconda3/lib/encodings/cp1252.py?line=22'>23</a>\u001b[0m     \u001b[39mreturn\u001b[39;00m codecs\u001b[39m.\u001b[39;49mcharmap_decode(\u001b[39minput\u001b[39;49m,\u001b[39mself\u001b[39;49m\u001b[39m.\u001b[39;49merrors,decoding_table)[\u001b[39m0\u001b[39m]\n",
      "\u001b[1;31mUnicodeDecodeError\u001b[0m: 'charmap' codec can't decode byte 0x81 in position 4427: character maps to <undefined>"
     ]
    }
   ],
   "source": [
    "import csv\n",
    "\n",
    "ratings = {}\n",
    "\n",
    "with open('movie.csv') as csvfile:\n",
    "    reader = csv.DictReader(csvfile)\n",
    "    for row in reader:\n",
    "        #print(row['movie_title'], row['imdb_score'])\n",
    "        ratings[row['movie_title']] = float(row['imdb_score'])\n",
    "\n",
    "ratings"
   ]
  },
  {
   "cell_type": "markdown",
   "metadata": {},
   "source": [
    "What is the average IMDB Score of all the movies?"
   ]
  },
  {
   "cell_type": "code",
   "execution_count": 22,
   "metadata": {},
   "outputs": [
    {
     "name": "stdout",
     "output_type": "stream",
     "text": [
      "6.44374577417174\n"
     ]
    }
   ],
   "source": [
    "sum = 0\n",
    "\n",
    "for rating in ratings.values():\n",
    "    sum += rating\n",
    "\n",
    "average_rating = sum / len(ratings)\n",
    "print(average_rating)"
   ]
  },
  {
   "cell_type": "markdown",
   "metadata": {},
   "source": [
    "### Questions\n",
    "1. How many movies have \"Star Wars\" in the movie_title field?\n",
    "2. Which movie has the highest IMDB Score?\n",
    "3. Which movie has the lowest IMDB Score?\n",
    "4. For each director, how many movies have they directed (from this dataset)?\n",
    "5. What's the average duration of Action Movies?"
   ]
  },
  {
   "cell_type": "code",
   "execution_count": null,
   "metadata": {},
   "outputs": [],
   "source": []
  }
 ],
 "metadata": {
  "kernelspec": {
   "display_name": "Python 3.8.2 ('base')",
   "language": "python",
   "name": "python3"
  },
  "language_info": {
   "codemirror_mode": {
    "name": "ipython",
    "version": 3
   },
   "file_extension": ".py",
   "mimetype": "text/x-python",
   "name": "python",
   "nbconvert_exporter": "python",
   "pygments_lexer": "ipython3",
   "version": "3.8.2"
  },
  "orig_nbformat": 4,
  "vscode": {
   "interpreter": {
    "hash": "f2745af96acbee78653c764a6f365ae1c9237a8060f8d2db18cddaa54531309e"
   }
  }
 },
 "nbformat": 4,
 "nbformat_minor": 2
}
